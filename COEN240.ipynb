{
 "cells": [
  {
   "cell_type": "markdown",
   "metadata": {},
   "source": [
    "# HW2\n",
    "\n",
    "HW2 is required to finish the following two tasks based on this incomplete Notebook file. The final submission should include the completed code snippets, obtained results, and the given answers. You can get the PDF submission by \"File -> Download as -> HTML,\" then open your downloaded HTML file via a browser and print the webpage as a PDF file. \n",
    "\n",
    "- **Q1:** Multivariate linear regression (60 pts)\n",
    "    1. Given a dataset, implement a multivariate linear regression model and show the training/validation/testing MSE errors (20pts).\n",
    "    2. Implement a Ridge regression based model on step 1 (10 pts)\n",
    "    3. Tune the hyperparameter $\\alpha$ of Ridge regression on the validation set. Plot training/validation MSE errors over the given range. (20 pts)\n",
    "    4. Choose one hyperparameter from step 3. Given the same hyperparameter, compare your Ridge regression model and the Sklearn-Ridge regression on the testing set. (10 pts)\n",
    "---\n",
    "- **Q2:** K-means clustering (40 pts)\n",
    "    1. Given a K-means clustering model, run it on the iris dataset 20 times. Report the average NMI value along with its std (Normalized Mutual Information (NMI) is a standard clustering evaluation method. Basically, a higher NMI value indicates better clustering performance. More details could be referred to usage [here](https://scikit-learn.org/stable/modules/generated/sklearn.metrics.normalized_mutual_info_score.html) and this [introduction](https://nlp.stanford.edu/IR-book/html/htmledition/evaluation-of-clustering-1.html)). Save the best clustering result by NMI for the following steps. (10 pts)\n",
    "    2. Repeat step 1 for the given spectral clustering and hierarchical clustering models. Compare the clustering performance of these three methods by averaged NMI$\\pm$std. (10 pts) \n",
    "    3. Plot the best and worst clustering results of K-means by NMI. (20 pts)"
   ]
  },
  {
   "cell_type": "markdown",
   "metadata": {},
   "source": [
    "## Q1: Multivariate linear regression\n",
    "\n",
    "We start from a given dataset, digits, which has $N=1797$ samples with $D=64$ features. The digits dataset is generally used for a classification task. Here, however, we tailor it as a multivariate regression problem: we aim to predict the last 8 features upon the given 56 features, resulting in $\\mathbf{X} \\in \\mathbb{R}^{1797 \\times 56}$ and $\\mathbf{Y} \\in \\mathbb{R}^{1797 \\times 8}$. Linear/Ridge regression models learn $\\mathbf{W} \\in \\mathbb{R}^{56 \\times 8}: \\mathbf{X} \\rightarrow \\mathbf{Y}$.\n",
    "\n",
    "**Hint:** You may refer to the implementation details in \"Camino -> Modules -> Notebook -> Linear Regression\" for solving the Q1. Think about the difference between (single value) linear regression and multivariate linear regression."
   ]
  },
  {
   "cell_type": "code",
   "execution_count": 53,
   "metadata": {},
   "outputs": [
    {
     "name": "stdout",
     "output_type": "stream",
     "text": [
      "(1078, 56)\n",
      "(1078, 8)\n",
      "[1081 1707  927 ... 1653  559  684]\n"
     ]
    }
   ],
   "source": [
    "%matplotlib inline\n",
    "\n",
    "import numpy as np\n",
    "from sklearn import linear_model\n",
    "from sklearn.datasets import load_digits\n",
    "import matplotlib.pyplot as plt \n",
    "\n",
    "# We first split the dataset into training/vaidation/test\n",
    "# load dataset\n",
    "digits = load_digits()\n",
    "# normalzied features to range [0,1]\n",
    "data = digits.data / 16.\n",
    "N, _ = data.shape\n",
    "D = 56 # pre-defined feature dimension\n",
    "X = data[:, :D]\n",
    "Y = data[:, D:]\n",
    "# random shuffle the data\n",
    "np.random.seed(0)\n",
    "ind = np.random.permutation(N)\n",
    "# split the data as 0.6/0.2/0.2\n",
    "n1, n2 = int(0.6*N), int(0.8*N)\n",
    "X_trn, Y_trn = X[ind[:n1]], Y[ind[:n1]]\n",
    "X_val, Y_val = X[ind[n1:n2]], Y[ind[n1:n2]]\n",
    "X_tst, Y_tst = X[ind[n2:]], Y[ind[n2:]]\n",
    "print(X_trn.shape)\n",
    "print(Y_trn.shape)\n",
    "print(ind)"
   ]
  },
  {
   "cell_type": "code",
   "execution_count": 54,
   "metadata": {},
   "outputs": [],
   "source": [
    "def mse(y_hat, y):\n",
    "    return ((y_hat-y)**2).sum()/len(y)"
   ]
  },
  {
   "cell_type": "markdown",
   "metadata": {},
   "source": [
    "### Q1-1: Implement a multivariate linear regression model (20 pts)\n",
    "\n",
    "$\\mathcal{L}_{w} = \\frac{1}{2} \\|\\mathbf{Y} - \\mathbf{X}\\mathbf{W}\\|^{2}_{\\mathrm{F}}$, $\\mathbf{W}^{*} = \\texttt{argmin}_{\\mathbf{W}}\\mathcal{L}_{w}=(\\mathbf{X}^{T}\\mathbf{X})^{-1}\\mathbf{X}^{T}\\mathbf{Y}$\n",
    "\n",
    "For a given matrix $\\mathbf{A}$, $\\|\\mathbf{A}\\|_{\\mathrm{F}}$ is defined as $\\|\\mathbf{A}\\|_{\\mathrm{F}}=\\sqrt{\\sum_{i}\\sum_{j}\\mathbf{A}_{ij}^2}$. You may refer to [Matrix norm](https://en.wikipedia.org/wiki/Matrix_norm) for more details about the vector norm and matrix norm.\n",
    "\n",
    "Note that, it is common to raise a \"singular matrix error\" when computing $(\\mathbf{X}^{T}\\mathbf{X})^{-1}$. One common trick is to compute $(\\mathbf{X}^{T}\\mathbf{X} + \\epsilon \\mathbf{I})^{-1}$ instead, where $\\epsilon$ could be set as $1e-8$."
   ]
  },
  {
   "cell_type": "code",
   "execution_count": 81,
   "metadata": {},
   "outputs": [
    {
     "name": "stdout",
     "output_type": "stream",
     "text": [
      "(56, 8)\n",
      "Training MSE:\t 0.1477\n",
      "Validation MSE:\t 0.1606\n",
      "Testing MSE:\t 0.1661\n"
     ]
    }
   ],
   "source": [
    "# TODO: get the predictions via your linear regression model\n",
    "\n",
    "# w_l = ? # @ is equivilent to np.matmul -> matrix multiplication\n",
    "# w_l = np.linalg.inv(np.transpose(X_trn) @ X_trn) @ np.transpose(X_trn) @ Y_trn # this cause singular matrix error\n",
    "w_l = np.linalg.inv(np.transpose(X_trn) @ X_trn + 1e-8*np.identity(X_trn.shape[1])) @ np.transpose(X_trn) @ Y_trn\n",
    "print(w_l.shape)\n",
    "\n",
    "# y_trn_hat = ?\n",
    "y_trn_hat = X_trn @ w_l\n",
    "# y_val_hat = ?\n",
    "y_val_hat = X_val @ w_l\n",
    "# y_tst_hat = ?\n",
    "y_tst_hat = X_tst @ w_l\n",
    "\n",
    "# print the training/validation/testing MSE error by using the mse function\n",
    "print('Training MSE:\\t %.4f' % mse(y_trn_hat, Y_trn))\n",
    "print('Validation MSE:\\t %.4f' % mse(y_val_hat, Y_val))\n",
    "print('Testing MSE:\\t %.4f' % mse(y_tst_hat, Y_tst))"
   ]
  },
  {
   "cell_type": "markdown",
   "metadata": {},
   "source": [
    "### Q1-2: Implement a multivariate Ridge regression model (10 pts)\n",
    "For Ridge regression, we have\n",
    "$\\mathcal{L}_{w} = \\frac{1}{2}( \\|\\mathbf{Y} - \\mathbf{X}\\mathbf{W}\\|_{\\mathrm{F}}^{2} + \\alpha \\|\\mathbf{W}\\|_{\\mathrm{F}}^{2}$), $\\mathbf{W}^{*} = \\texttt{argmin}_{\\mathbf{W}}\\mathcal{L}_{w}=(\\mathbf{X}^{T}\\mathbf{X} + \\alpha \\mathbf{I})^{-1}\\mathbf{X}^{T}\\mathbf{Y}$, \n",
    "where $\\alpha > 0 $ is a trade-off hyperparameter balancing regression error and $\\ell_2$ regularization."
   ]
  },
  {
   "cell_type": "code",
   "execution_count": 82,
   "metadata": {},
   "outputs": [
    {
     "name": "stdout",
     "output_type": "stream",
     "text": [
      "(56, 8)\n",
      "Training MSE:\t 0.1483\n",
      "Validation MSE:\t 0.1578\n",
      "Testing MSE:\t 0.1646\n"
     ]
    }
   ],
   "source": [
    "# Todo: give the W solution for ridge regression\n",
    "\n",
    "alpha = 0.1\n",
    "# w_r = ?\n",
    "w_r = np.linalg.inv(np.transpose(X_trn) @ X_trn + alpha*np.identity(X_trn.shape[1])) @ np.transpose(X_trn) @ Y_trn\n",
    "print(w_r.shape)\n",
    "\n",
    "# y_trn_hat = ?\n",
    "y_trn_hat = X_trn @ w_r\n",
    "# y_val_hat = ?\n",
    "y_val_hat = X_val @ w_r\n",
    "# y_tst_hat = ?\n",
    "y_tst_hat = X_tst @ w_r\n",
    "\n",
    "# print the training/validation/testing MSE error by using the mse function\n",
    "print('Training MSE:\\t %.4f' % mse(y_trn_hat, Y_trn))\n",
    "print('Validation MSE:\\t %.4f' % mse(y_val_hat, Y_val))\n",
    "print('Testing MSE:\\t %.4f' % mse(y_tst_hat, Y_tst))"
   ]
  },
  {
   "cell_type": "markdown",
   "metadata": {},
   "source": [
    "### Q1-3: Tune the hyperparameter $\\alpha$ on the validation set (20 pts)\n",
    "We may utilize the Sklearn implemntation for tuning the hyperparameter of a ridge regression model."
   ]
  },
  {
   "cell_type": "code",
   "execution_count": 90,
   "metadata": {},
   "outputs": [
    {
     "data": {
      "image/png": "[encoded data removed]",
      "text/plain": [
       "<Figure size 576x432 with 1 Axes>"
      ]
     },
     "metadata": {
      "needs_background": "light"
     },
     "output_type": "display_data"
    }
   ],
   "source": [
    "alphas = [0.001, 0.01, 0.1, 0, 1, 5, 10, 20, 50, 100]\n",
    "loss_trns = []\n",
    "loss_vals = []\n",
    "for alpha in alphas:\n",
    "    # instantiate a ridge regression model with a given alpha\n",
    "    model = linear_model.Ridge(alpha=alpha, fit_intercept=False)\n",
    "    # TODO: training the model and get the training and validation loss for each alpha\n",
    "    # train model?\n",
    "    model.fit(X_trn, Y_trn)\n",
    "    # loss_trns.append(?)\n",
    "    loss_trns.append(mse(model.predict(X_trn), Y_trn))\n",
    "    # loss_vals.append(?)\n",
    "    loss_vals.append(mse(model.predict(X_val), Y_val))\n",
    "\n",
    "fig, ax = plt.subplots(figsize=(8,6))\n",
    "plt.grid(which='both',axis='both', color='grey',linestyle=':')\n",
    "\n",
    "# TODO plot the training and validation loss below\n",
    "# plt.plot(training MSE?)\n",
    "plt.plot(loss_trns, label = 'Training Loss')\n",
    "# plt.plot(validation MSE?)\n",
    "plt.plot(loss_vals, label = 'Validation Loss')\n",
    "\n",
    "# TODO how to plot the best validation loss?\n",
    "# plt.plot(np.arange(len(alphas)), ?, color='tab:red', linestyle='--', linewidth=2)\n",
    "# For example, if you want to hilight one horizontal line. \n",
    "plt.plot(np.arange(len(alphas)), np.ones(len(alphas))*np.min(loss_vals), color='tab:red', linestyle='--', linewidth=2)# remove it when you finish the code\n",
    "\n",
    "plt.ylabel('MSE', fontsize=18)\n",
    "plt.xlabel(r'${\\alpha}$s', fontsize=18)\n",
    "plt.xticks(np.arange(len(alphas)), alphas, fontsize=12)\n",
    "# TODO: add a legend\n",
    "plt.legend(fancybox=True, framealpha=0.5, fontsize=18)\n",
    "plt.show()"
   ]
  },
  {
   "cell_type": "markdown",
   "metadata": {},
   "source": [
    "### Q1-4: Compare your ridge regression model with Sklearn implmentation"
   ]
  },
  {
   "cell_type": "code",
   "execution_count": 95,
   "metadata": {},
   "outputs": [
    {
     "name": "stdout",
     "output_type": "stream",
     "text": [
      "(56, 8)\n",
      "My Model Summary:\n",
      "Training MSE:\t 0.1483\n",
      "Validation MSE:\t 0.1578\n",
      "Testing MSE:\t 0.1646\n",
      "Sklearn Model Summary:\n",
      "Training MSE:\t 0.1483\n",
      "Validation MSE:\t 0.1578\n",
      "Testing MSE:\t 0.1646\n"
     ]
    }
   ],
   "source": [
    "# TODO: select alpha from Q1-3\n",
    "# alpha = ?\n",
    "# Given w_r from Q1-2\n",
    "\n",
    "# y_r_trn = ?\n",
    "# y_r_val = ?\n",
    "# y_r_tst = ?\n",
    "# print the training/validation/testing MSE error by using the mse function\n",
    "\n",
    "alpha = 0.1\n",
    "# w_r = ?\n",
    "w_r = np.linalg.inv(np.transpose(X_trn) @ X_trn + alpha*np.identity(X_trn.shape[1])) @ np.transpose(X_trn) @ Y_trn\n",
    "print(w_r.shape)\n",
    "\n",
    "# y_trn_hat = ?\n",
    "y_trn_hat = X_trn @ w_r\n",
    "# y_val_hat = ?\n",
    "y_val_hat = X_val @ w_r\n",
    "# y_tst_hat = ?\n",
    "y_tst_hat = X_tst @ w_r\n",
    "\n",
    "# print the training/validation/testing MSE error by using the mse function\n",
    "print('My Model Summary:')\n",
    "print('Training MSE:\\t %.4f' % mse(y_trn_hat, Y_trn))\n",
    "print('Validation MSE:\\t %.4f' % mse(y_val_hat, Y_val))\n",
    "print('Testing MSE:\\t %.4f' % mse(y_tst_hat, Y_tst))\n",
    "\n",
    "# sklearn mdoel with the same alpha\n",
    "model = linear_model.Ridge(alpha=0.1, fit_intercept=False)\n",
    "model.fit(X_trn, Y_trn)\n",
    "# train the model \n",
    "# print the training/validation/testing MSE error by using the mse function\n",
    "print('Sklearn Model Summary:')\n",
    "print('Training MSE:\\t %.4f' % mse(model.predict(X_trn), Y_trn))\n",
    "print('Validation MSE:\\t %.4f' % mse(model.predict(X_val), Y_val))\n",
    "print('Testing MSE:\\t %.4f' % mse(model.predict(X_tst), Y_tst))"
   ]
  },
  {
   "cell_type": "markdown",
   "metadata": {},
   "source": [
    "## Q2: K-means clustering\n",
    "We will directly use the Sklearn libary for running K-means, spectral clustering, and hierarchical clustering. More details about the function usage could be referred to [Sklearn cluster](https://scikit-learn.org/stable/modules/classes.html#module-sklearn.cluster) and this [tutorial](https://scikit-learn.org/stable/modules/clustering.html)."
   ]
  },
  {
   "cell_type": "code",
   "execution_count": 24,
   "metadata": {},
   "outputs": [
    {
     "name": "stdout",
     "output_type": "stream",
     "text": [
      "['setosa' 'versicolor' 'virginica']\n",
      "[0 0 0 0 0 0 0 0 0 0 0 0 0 0 0 0 0 0 0 0 0 0 0 0 0 0 0 0 0 0 0 0 0 0 0 0 0\n",
      " 0 0 0 0 0 0 0 0 0 0 0 0 0 1 1 1 1 1 1 1 1 1 1 1 1 1 1 1 1 1 1 1 1 1 1 1 1\n",
      " 1 1 1 1 1 1 1 1 1 1 1 1 1 1 1 1 1 1 1 1 1 1 1 1 1 1 2 2 2 2 2 2 2 2 2 2 2\n",
      " 2 2 2 2 2 2 2 2 2 2 2 2 2 2 2 2 2 2 2 2 2 2 2 2 2 2 2 2 2 2 2 2 2 2 2 2 2\n",
      " 2 2]\n"
     ]
    }
   ],
   "source": [
    "from sklearn.datasets import load_iris\n",
    "from sklearn.cluster import KMeans, SpectralClustering, AgglomerativeClustering\n",
    "from sklearn.metrics.cluster import normalized_mutual_info_score as nmi_score\n",
    "import numpy as np\n",
    "\n",
    "dataset = load_iris()\n",
    "X = dataset.data\n",
    "gnd = dataset.target\n",
    "semantic_labels = dataset.target_names\n",
    "print(semantic_labels)\n",
    "print(gnd)\n",
    "K = len(set(gnd)) # get the ground-truth cluster number"
   ]
  },
  {
   "cell_type": "markdown",
   "metadata": {},
   "source": [
    "### Q2-1: K-means (10 pts)\n",
    "Given a K-means model, run it 20 times to report averaged NMI and std value. Save the clustering labels of each trial for the following steps."
   ]
  },
  {
   "cell_type": "code",
   "execution_count": 50,
   "metadata": {},
   "outputs": [
    {
     "name": "stdout",
     "output_type": "stream",
     "text": [
      "Mean of nmis using k-means is:  0.6858669044421231\n",
      "Std of nmis using k-means is:  0.08050069843356983\n"
     ]
    }
   ],
   "source": [
    "km = KMeans(n_clusters=K, init='random', n_init=1)\n",
    "idx, nmis = [], []\n",
    "for i in range(20):\n",
    "    # run K-means here\n",
    "    km.fit(X)\n",
    "    # idx.append(the obtained clustering labels)\n",
    "    idx.append(km.labels_)\n",
    "    # nmi.append(nmi_score(gnd, clustering label))\n",
    "    nmis.append(nmi_score(gnd, km.labels_))\n",
    "    \n",
    "#     pass # delete this statement once you complete this snippet.\n",
    "# report mean and std values of nmis\n",
    "print('Mean of nmis using k-means is: ', np.mean(nmis))\n",
    "print('Std of nmis using k-means is: ', np.std(nmis))"
   ]
  },
  {
   "cell_type": "markdown",
   "metadata": {},
   "source": [
    "### Q2-2: Compare K-means with SC and AC (10 pts)\n",
    "Repeat Q2-1 with the following two given models."
   ]
  },
  {
   "cell_type": "code",
   "execution_count": 51,
   "metadata": {},
   "outputs": [
    {
     "name": "stdout",
     "output_type": "stream",
     "text": [
      "Mean and std of nmis using k-means is: \t 0.6858669044421231 \t 0.08050069843356983\n",
      "Mean and std of nmis using SC is: \t 0.7979885217013318 \t 1.1102230246251565e-16\n",
      "Mean and std of nmis using AC is: \t 0.770083661648787 \t 0.0\n"
     ]
    }
   ],
   "source": [
    "sc = SpectralClustering(n_clusters=K, n_init=1) # spectral clustering model\n",
    "ac = AgglomerativeClustering(n_clusters=K) # hierarchical clustering model\n",
    "# TODO: repeat Q2-1 and compare km with sc and ac\n",
    "# print the comparion results\n",
    "idx_SC, nmis_SC = [], []\n",
    "idx_AC, nmis_AC = [], []\n",
    "\n",
    "for i in range(20):\n",
    "    # run SC and AC here\n",
    "    sc.fit(X)\n",
    "    idx_SC.append(sc.labels_)\n",
    "    nmis_SC.append(nmi_score(gnd, sc.labels_))\n",
    "    ac.fit(X)\n",
    "    idx_AC.append(ac.labels_)\n",
    "    nmis_AC.append(nmi_score(gnd, ac.labels_))\n",
    "    \n",
    "#     pass # delete this statement once you complete this snippet.\n",
    "# report mean and std values of nmis\n",
    "print('Mean and std of nmis using k-means is: \\t', np.mean(nmis),'\\t', np.std(nmis))\n",
    "print('Mean and std of nmis using SC is: \\t', np.mean(nmis_SC), '\\t',np.std(nmis_SC))\n",
    "print('Mean and std of nmis using AC is: \\t', np.mean(nmis_AC), '\\t',np.std(nmis_AC))\n"
   ]
  },
  {
   "cell_type": "markdown",
   "metadata": {},
   "source": [
    "### Q2-3: Plot K-means clustering results (20 pts)"
   ]
  },
  {
   "cell_type": "code",
   "execution_count": 52,
   "metadata": {},
   "outputs": [
    {
     "data": {
      "image/png": "[encoded data removed]",
      "text/plain": [
       "<Figure size 1296x432 with 3 Axes>"
      ]
     },
     "metadata": {
      "needs_background": "light"
     },
     "output_type": "display_data"
    }
   ],
   "source": [
    "import seaborn as sns\n",
    "# sns.set_theme()\n",
    "\n",
    "clustering_labels = ['Cluster 1', 'Cluster 2', 'Cluster 3']\n",
    "\n",
    "# TODO: \n",
    "\n",
    "# 1) find the best/worst clustering labels by NMI, termed as bst_idx and wst_idx\n",
    "bst_idx = idx[np.argmin(nmis)]\n",
    "wst_idx = idx[np.argmax(nmis)]\n",
    "\n",
    "# 2) scatter plot the data samples upon the clustering labels, bst_idx and wst_idx.\n",
    "fig, (ax1, ax2, ax3) = plt.subplots(1, 3, figsize=(18,6))\n",
    "fig.suptitle('Comapre differnt K-means results')\n",
    "colors = ['tab:blue', 'tab:orange', 'tab:green']\n",
    "ax1.set_title('Original dataset with semantic labels')\n",
    "# fill out the NMI values in the title\n",
    "ax2.set_title('K-means result by best NMI = ' + str(np.round(min(nmis),4)))\n",
    "ax3.set_title('K-means result by worst NMI = '  + str(np.round(max(nmis),4)))\n",
    "\n",
    "for color, i in zip(colors, [0, 1, 2]):\n",
    "    ax1.scatter(X[gnd == i, 0], X[gnd == i, 1], color=color, alpha=.8, label=semantic_labels[i])\n",
    "    # ax2.scatter(?) plot with bst_idx and clsutering_labels\n",
    "    ax2.scatter(X[bst_idx == i, 0], X[bst_idx == i, 1], color=color, alpha=.8, label=semantic_labels[i])\n",
    "    # ax3.scatter(?) plot with wst_idx and clsutering_labels\n",
    "    ax3.scatter(X[wst_idx == i, 0], X[wst_idx == i, 1], color=color, alpha=.8, label=semantic_labels[i])\n",
    "    \n",
    "ax1.legend(fancybox=True, framealpha=0.5)\n",
    "\n",
    "# TODO: add legends for ax2 and ax3\n",
    "ax2.legend(fancybox=True, framealpha=0.5)\n",
    "ax3.legend(fancybox=True, framealpha=0.5)\n",
    "plt.show()"
   ]
  },
  {
   "cell_type": "markdown",
   "metadata": {},
   "source": [
    "Answer the following questions:\n",
    "- Can we use the semantic_labels for the clustering results plot? Why? \n",
    "- Why does the same clustering label (e.g., clustering 1) have different groups of samples between two K-means results?\n",
    "\n",
    "Please directly answer the above question with Markdown inside this notebook file."
   ]
  },
  {
   "cell_type": "markdown",
   "metadata": {},
   "source": [
    "Answer:\n",
    "- No, we cannot use the semantic_labels for clustering results plot. Because clustering is unsupervised learning. So it don't have semantic_labels\n",
    "- Because it is unsupervised learning. So it don't have the label. So we could just randomly generate numbers."
   ]
  }
 ],
 "metadata": {
  "kernelspec": {
   "display_name": "Python 3",
   "language": "python",
   "name": "python3"
  },
  "language_info": {
   "codemirror_mode": {
    "name": "ipython",
    "version": 3
   },
   "file_extension": ".py",
   "mimetype": "text/x-python",
   "name": "python",
   "nbconvert_exporter": "python",
   "pygments_lexer": "ipython3",
   "version": "3.8.5"
  }
 },
 "nbformat": 4,
 "nbformat_minor": 4
}
